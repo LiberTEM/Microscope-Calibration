{
 "cells": [
  {
   "cell_type": "code",
   "execution_count": 1,
   "id": "50efe395",
   "metadata": {},
   "outputs": [],
   "source": [
    "%matplotlib nbagg"
   ]
  },
  {
   "cell_type": "code",
   "execution_count": 2,
   "id": "6c2f0ea1",
   "metadata": {},
   "outputs": [],
   "source": [
    "import numpy as np\n",
    "import matplotlib.pyplot as plt\n",
    "import ipywidgets\n",
    "from jupyter_ui_poll import ui_events\n",
    "\n",
    "from libertem.api import Context\n",
    "\n",
    "from libertem_live.api import LiveContext\n",
    "from libertem_live.detectors.dectris.acquisition import DectrisAcquisition\n",
    "from libertem.udf.sumsigudf import SumSigUDF\n",
    "from libertem.udf.sum import SumUDF\n",
    "from libertem.udf.masks import ApplyMasksUDF\n",
    "from libertem.udf.base import UDF\n",
    "from libertem.viz.bqp import BQLive2DPlot\n",
    "from libertem.viz.mpl import MPLLive2DPlot\n",
    "from libertem.analysis import com as com_analysis\n",
    "from libertem.masks import circular\n",
    "\n",
    "from libertem_live.udf.monitor import SignalMonitorUDF\n",
    "\n",
    "from microscope_calibration.udf.stem_overfocus import OverfocusUDF, OverfocusParams, OverfocusProcessParams"
   ]
  },
  {
   "cell_type": "code",
   "execution_count": 3,
   "id": "89ac4b00",
   "metadata": {},
   "outputs": [],
   "source": [
    "ctx = Context()"
   ]
  },
  {
   "cell_type": "code",
   "execution_count": 4,
   "id": "17ef93bb",
   "metadata": {},
   "outputs": [],
   "source": [
    "ds = ctx.load('auto', path=r'\\\\er-c-data-smb.fz-juelich.de\\er-c-data\\adhoc\\livecalibration\\20221025_154811\\rotation_calibration.hdr')"
   ]
  },
  {
   "cell_type": "code",
   "execution_count": 5,
   "id": "dd960283",
   "metadata": {},
   "outputs": [],
   "source": [
    "overfocus_params = OverfocusParams(\n",
    "    overfocus=0.001,  # m\n",
    "    scan_pixel_size=0.000001,  # m\n",
    "    camera_length=0.15,  # m\n",
    "    detector_pixel_size=0.000050,  # m\n",
    "    semiconv=0.020,  # rad\n",
    "    #'scan_rotation': 37,\n",
    "    scan_rotation=0.,\n",
    "    flip_y=False,\n",
    "    cy=ds.shape.sig[0] / 2,\n",
    "    cx=ds.shape.sig[1] / 2,\n",
    ")\n"
   ]
  },
  {
   "cell_type": "code",
   "execution_count": 6,
   "id": "e3a94908",
   "metadata": {},
   "outputs": [],
   "source": [
    "keep_running = True\n",
    "def on_click(btn):\n",
    "    global keep_running\n",
    "    keep_running = False\n",
    "    btn.description = '👍 stopping'\n",
    "\n",
    "stop_btn = ipywidgets.Button(description='Stop series')\n",
    "stop_btn.on_click(on_click)"
   ]
  },
  {
   "cell_type": "code",
   "execution_count": 7,
   "id": "ed72f5e9",
   "metadata": {},
   "outputs": [],
   "source": [
    "test_params = overfocus_params.copy()\n",
    "test_params['scan_rotation'] = 330\n",
    "\n",
    "process_params = OverfocusProcessParams(\n",
    "    pair_distance=10.,\n",
    "    pair_radius=1.,\n",
    ")"
   ]
  },
  {
   "cell_type": "code",
   "execution_count": 8,
   "id": "44c22fcb",
   "metadata": {},
   "outputs": [
    {
     "data": {
      "application/vnd.jupyter.widget-view+json": {
       "model_id": "e0cd58e4735749159c2b7181a8e4fcc5",
       "version_major": 2,
       "version_minor": 0
      },
      "text/plain": [
       "VBox(children=(HBox(children=(Output(), Output(), Output())), HBox(children=(Output(), Output())), FloatSlider…"
      ]
     },
     "execution_count": 8,
     "metadata": {},
     "output_type": "execute_result"
    }
   ],
   "source": [
    "overfocus_udf = OverfocusUDF(\n",
    "    overfocus_params=test_params.copy(),\n",
    "    process_params=process_params.copy(),\n",
    "    point_y=127,\n",
    "    point_x=127\n",
    ")\n",
    "sum_udf = SumUDF()\n",
    "\n",
    "point_plot = BQLive2DPlot(dataset=ds, udf=overfocus_udf, channel='point')\n",
    "shifted_sum_plot = BQLive2DPlot(dataset=ds, udf=overfocus_udf, channel='shifted_sum')\n",
    "shifted_pair_plot = BQLive2DPlot(dataset=ds, udf=overfocus_udf, channel='shifted_pair')\n",
    "sum_plot = BQLive2DPlot(dataset=ds, udf=overfocus_udf, channel='sum')\n",
    "sum_plot_plain = BQLive2DPlot(dataset=ds, udf=sum_udf, channel='intensity')\n",
    "\n",
    "plots = (point_plot, shifted_sum_plot, sum_plot_plain, shifted_pair_plot, sum_plot)\n",
    "\n",
    "adjustment_outputs = []\n",
    "\n",
    "for p in plots:\n",
    "    # Capture the plots to display them in a grid later\n",
    "    output = ipywidgets.Output()\n",
    "    with output:\n",
    "        p.display()\n",
    "        # Some plot-specific tweaks for grid display\n",
    "        if isinstance(p, BQLive2DPlot):\n",
    "            p.figure.fig_margin={'top': 50, 'bottom': 0, 'left': 25, 'right': 25}\n",
    "            p.figure.layout.width = '300px'\n",
    "            p.figure.layout.height = '300px'\n",
    "        elif isinstance(p, MPLLive2DPlot):\n",
    "            p.fig.tight_layout()\n",
    "            p.fig.set_size_inches((3, 3))\n",
    "            p.fig.canvas.toolbar_position = 'bottom'\n",
    "    adjustment_outputs.append(output)\n",
    "\n",
    "rp = test_params\n",
    "    \n",
    "scan_rotation = ipywidgets.FloatSlider(min=0, max=360, description='Scan rotation / deg', value=rp['scan_rotation'])\n",
    "flip_y = ipywidgets.Checkbox(description='Flip detector Y axis', value=rp['flip_y'])\n",
    "overfocus = ipywidgets.FloatText(description='Overfocus / m', value=rp['overfocus'])\n",
    "camera_length = ipywidgets.FloatText(description='Camera length / m', value=rp['camera_length'])\n",
    "detector_pixel_size = ipywidgets.FloatText(description='Detector pixel size / m', value=rp['detector_pixel_size'])\n",
    "scan_pixel_size = ipywidgets.FloatText(description='Scan pixel size / m', value=rp['scan_pixel_size'])\n",
    "\n",
    "nav_y, nav_x = ds.shape.nav\n",
    "pair_distance = ipywidgets.FloatSlider(min=0, max=np.sqrt(nav_y**2 + nav_x**2), description='Pair distance / px', value=process_params['pair_distance'])\n",
    "pair_radius = ipywidgets.FloatText(description='Pair radius / px', value=process_params['pair_radius'])\n",
    "    \n",
    "ipywidgets.VBox([\n",
    "    ipywidgets.HBox(adjustment_outputs[0:3]),\n",
    "    ipywidgets.HBox(adjustment_outputs[3:5]),\n",
    "    scan_rotation,\n",
    "    flip_y,\n",
    "    ipywidgets.HBox([overfocus, camera_length]),\n",
    "    ipywidgets.HBox([detector_pixel_size, scan_pixel_size]),\n",
    "    ipywidgets.HBox([pair_distance, pair_radius]),\n",
    "    stop_btn\n",
    "])"
   ]
  },
  {
   "cell_type": "code",
   "execution_count": 9,
   "id": "597b299c",
   "metadata": {},
   "outputs": [],
   "source": [
    "with ui_events() as poll:\n",
    "    keep_running = True\n",
    "    stop_btn.description = 'Stop series'\n",
    "    while keep_running:\n",
    "        tp = test_params\n",
    "        tp['scan_rotation'] = scan_rotation.value\n",
    "        tp['flip_y'] = flip_y.value\n",
    "        tp['overfocus'] = overfocus.value\n",
    "        tp['camera_length'] = camera_length.value\n",
    "        tp['detector_pixel_size'] = detector_pixel_size.value\n",
    "        tp['scan_pixel_size'] = scan_pixel_size.value\n",
    "        pp = process_params\n",
    "        pp['pair_distance'] = pair_distance.value\n",
    "        pp['pair_radius'] = pair_radius.value\n",
    "        result_iter = ctx.run_udf_iter(dataset=ds, udf=(overfocus_udf, sum_udf), plots=plots)\n",
    "        for adjustment_res in result_iter:\n",
    "            result_iter.update_parameters_experimental([\n",
    "                {'overfocus_params': rp, 'process_params': pp},\n",
    "                {}\n",
    "            ])\n",
    "            poll(100)\n",
    "    stop_btn.description = 'Stopped'"
   ]
  },
  {
   "cell_type": "code",
   "execution_count": null,
   "id": "df2c3647",
   "metadata": {},
   "outputs": [],
   "source": []
  }
 ],
 "metadata": {
  "@webio": {
   "lastCommId": null,
   "lastKernelId": null
  },
  "kernelspec": {
   "display_name": "Python 3 (ipykernel)",
   "language": "python",
   "name": "python3"
  },
  "language_info": {
   "codemirror_mode": {
    "name": "ipython",
    "version": 3
   },
   "file_extension": ".py",
   "mimetype": "text/x-python",
   "name": "python",
   "nbconvert_exporter": "python",
   "pygments_lexer": "ipython3",
   "version": "3.9.6"
  }
 },
 "nbformat": 4,
 "nbformat_minor": 5
}
